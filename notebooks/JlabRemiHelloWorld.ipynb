{
 "cells": [
  {
   "cell_type": "code",
   "execution_count": 1,
   "id": "21786c2e-65fd-4c5b-b4ef-cf4898502335",
   "metadata": {},
   "outputs": [],
   "source": [
    "import remi.gui as gui\n",
    "from remi import start, App\n",
    "import threading"
   ]
  },
  {
   "cell_type": "code",
   "execution_count": 2,
   "id": "96d858c6-acde-44f1-92f9-417f5617bc28",
   "metadata": {},
   "outputs": [],
   "source": [
    "class MyApp(App):\n",
    "    def __init__(self, *args):\n",
    "        self.proxy = True\n",
    "        super(MyApp, self).__init__(*args)\n",
    "\n",
    "    def main(self):\n",
    "        #creating a container VBox type, vertical\n",
    "        wid = gui.VBox(width=300, height=200)\n",
    "\n",
    "        #creating a text label\n",
    "        self.lbl = gui.Label('Hello', width='80%', height='50%')\n",
    "\n",
    "        #a button for simple interaction\n",
    "        bt = gui.Button('Press me!', width=200, height=30)\n",
    "\n",
    "        #setting up the listener for the click event\n",
    "        bt.onclick.connect(self.on_button_pressed)\n",
    "        \n",
    "        #adding the widgets to the main container\n",
    "        wid.append(self.lbl)\n",
    "        wid.append(bt)\n",
    "\n",
    "        # returning the root widget\n",
    "        return wid\n",
    "\n",
    "    # listener function\n",
    "    def on_button_pressed(self, emitter):\n",
    "        # print(\"button pressed\")\n",
    "        self.lbl.set_text('Hello World!')"
   ]
  },
  {
   "cell_type": "code",
   "execution_count": 3,
   "id": "a3ccabe9-a77e-45bc-bc2a-8632685a44be",
   "metadata": {},
   "outputs": [
    {
     "name": "stderr",
     "output_type": "stream",
     "text": [
      "remi.server      INFO     Started httpserver http://127.0.0.1:8081/\n"
     ]
    }
   ],
   "source": [
    "myRemi = threading.Thread(target=start, \n",
    "                         args=(MyApp,),\n",
    "                         kwargs={'address':'127.0.0.1', 'port':8081, 'multiple_instance':True,'enable_file_cache':True, 'update_interval':0.5, 'start_browser':False})\n",
    "myRemi.start()  "
   ]
  },
  {
   "cell_type": "markdown",
   "id": "0dbd2b0e-85cc-481d-80e1-5df01037d302",
   "metadata": {},
   "source": [
    "http://127.0.0.1:8888/proxy/8081/"
   ]
  },
  {
   "cell_type": "code",
   "execution_count": 4,
   "id": "19786310-9b6d-4d74-a565-ec10a0a4114f",
   "metadata": {},
   "outputs": [],
   "source": [
    "from remi.server import clients, runtimeInstances"
   ]
  },
  {
   "cell_type": "code",
   "execution_count": 5,
   "id": "9a08f9fc-0117-4b8e-8773-83f6a0efddc1",
   "metadata": {},
   "outputs": [
    {
     "data": {
      "text/plain": [
       "{}"
      ]
     },
     "execution_count": 5,
     "metadata": {},
     "output_type": "execute_result"
    },
    {
     "name": "stderr",
     "output_type": "stream",
     "text": [
      "remi.request     INFO     built UI (path=/)\n",
      "127.0.0.1 - - [14/Nov/2021 16:51:38] \"GET / HTTP/1.1\" 200 -\n",
      "remi.server.ws   INFO     connection established: ('127.0.0.1', 65402)\n",
      "remi.server.ws   INFO     handshake complete\n",
      "127.0.0.1 - - [14/Nov/2021 16:56:50] \"GET / HTTP/1.1\" 200 -\n",
      "remi.server.ws   INFO     connection established: ('127.0.0.1', 65515)\n",
      "remi.server.ws   INFO     handshake complete\n",
      "127.0.0.1 - - [14/Nov/2021 16:57:00] \"GET / HTTP/1.1\" 200 -\n",
      "127.0.0.1 - - [14/Nov/2021 16:57:01] \"GET /res:style.css HTTP/1.1\" 200 -\n",
      "127.0.0.1 - - [14/Nov/2021 16:57:01] \"GET /res:font.woff2 HTTP/1.1\" 200 -\n",
      "remi.server.ws   INFO     connection established: ('127.0.0.1', 65524)\n",
      "remi.server.ws   INFO     handshake complete\n"
     ]
    }
   ],
   "source": [
    "clients"
   ]
  },
  {
   "cell_type": "code",
   "execution_count": null,
   "id": "1c89e4b0-3a23-4484-8dc7-f3b538eb97f9",
   "metadata": {},
   "outputs": [],
   "source": []
  }
 ],
 "metadata": {
  "kernelspec": {
   "display_name": "Python 3 (ipykernel)",
   "language": "python",
   "name": "python3"
  },
  "language_info": {
   "codemirror_mode": {
    "name": "ipython",
    "version": 3
   },
   "file_extension": ".py",
   "mimetype": "text/x-python",
   "name": "python",
   "nbconvert_exporter": "python",
   "pygments_lexer": "ipython3",
   "version": "3.9.6"
  }
 },
 "nbformat": 4,
 "nbformat_minor": 5
}
