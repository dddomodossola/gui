{
 "cells": [
  {
   "cell_type": "code",
   "execution_count": 1,
   "id": "9c637d02-c7c6-4950-b2b5-7e8fe3148350",
   "metadata": {},
   "outputs": [],
   "source": [
    "import remi.gui as gui\n",
    "from remi import start, App\n",
    "from threading import Timer, Thread"
   ]
  },
  {
   "cell_type": "code",
   "execution_count": 2,
   "id": "24012d5e-ea6b-4ade-b163-13f3f7579427",
   "metadata": {},
   "outputs": [],
   "source": [
    "class Proxy():\n",
    "    value = True\n",
    "    @staticmethod\n",
    "    def set_url(url):\n",
    "        if url.startswith(\"data:\"):\n",
    "            return url\n",
    "        else:\n",
    "            return \"/proxy/8085\"+url\n",
    "    @staticmethod\n",
    "    def get_url():\n",
    "        return \"/proxy/8085\"  "
   ]
  },
  {
   "cell_type": "code",
   "execution_count": 3,
   "id": "96d858c6-acde-44f1-92f9-417f5617bc28",
   "metadata": {},
   "outputs": [],
   "source": [
    "class MyApp(App):\n",
    "    def __init__(self, *args):\n",
    "        super(MyApp, self).__init__(*args)\n",
    "\n",
    "    def main(self):\n",
    "        #creating a container VBox type, vertical\n",
    "        wid = gui.VBox(width=300, height=200)\n",
    "\n",
    "        #creating a text label\n",
    "        self.lbl = gui.Label('Hello', width='80%', height='50%')\n",
    "\n",
    "        #a button for simple interaction\n",
    "        bt = gui.Button('Press me!', width=200, height=30)\n",
    "\n",
    "        #setting up the listener for the click event\n",
    "        bt.onclick.connect(self.on_button_pressed)\n",
    "        \n",
    "        #adding the widgets to the main container\n",
    "        wid.append(self.lbl)\n",
    "        wid.append(bt)\n",
    "\n",
    "        # returning the root widget\n",
    "        return wid\n",
    "\n",
    "    # listener function\n",
    "    def on_button_pressed(self, emitter):\n",
    "        # print(\"button pressed\")\n",
    "        self.lbl.set_text('Hello World!')"
   ]
  },
  {
   "cell_type": "code",
   "execution_count": 4,
   "id": "a3ccabe9-a77e-45bc-bc2a-8632685a44be",
   "metadata": {},
   "outputs": [
    {
     "name": "stderr",
     "output_type": "stream",
     "text": [
      "remi.server      INFO     Started httpserver http://127.0.0.1:8085/\n",
      "remi.request     INFO     built UI (path=/)\n",
      "127.0.0.1 - - [22/Nov/2021 18:21:36] \"GET / HTTP/1.1\" 200 -\n",
      "remi.server.ws   INFO     connection established: ('127.0.0.1', 65377)\n",
      "remi.server.ws   INFO     handshake complete\n",
      "remi.server.ws   ERROR    Error managing incoming websocket message\n",
      "Traceback (most recent call last):\n",
      "  File \"c:\\Users\\gilbe\\Documents\\GitHub\\remi\\venv\\lib\\site-packages\\remi\\server.py\", line 166, in read_next_message\n",
      "    length = self.bytetonum(length[1]) & 127\n",
      "IndexError: index out of range\n"
     ]
    }
   ],
   "source": [
    "myRemi = Thread(target=start, \n",
    "                         args=(MyApp,),\n",
    "                         kwargs={'address':'127.0.0.1', \n",
    "                                 'port':8085, \n",
    "                                 'multiple_instance':True,\n",
    "                                 'enable_file_cache':True, \n",
    "                                 'update_interval':0.5, \n",
    "                                 'start_browser':False,\n",
    "                                 'proxy':Proxy})\n",
    "myRemi.start()  "
   ]
  },
  {
   "cell_type": "markdown",
   "id": "0dbd2b0e-85cc-481d-80e1-5df01037d302",
   "metadata": {},
   "source": [
    "http://127.0.0.1:8888/proxy/8085/"
   ]
  },
  {
   "cell_type": "code",
   "execution_count": null,
   "id": "1c89e4b0-3a23-4484-8dc7-f3b538eb97f9",
   "metadata": {},
   "outputs": [],
   "source": []
  }
 ],
 "metadata": {
  "kernelspec": {
   "display_name": "Python 3 (ipykernel)",
   "language": "python",
   "name": "python3"
  },
  "language_info": {
   "codemirror_mode": {
    "name": "ipython",
    "version": 3
   },
   "file_extension": ".py",
   "mimetype": "text/x-python",
   "name": "python",
   "nbconvert_exporter": "python",
   "pygments_lexer": "ipython3",
   "version": "3.9.6"
  }
 },
 "nbformat": 4,
 "nbformat_minor": 5
}
