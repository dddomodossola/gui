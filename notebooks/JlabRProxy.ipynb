{
 "cells": [
  {
   "cell_type": "code",
   "execution_count": 1,
   "id": "21786c2e-65fd-4c5b-b4ef-cf4898502335",
   "metadata": {},
   "outputs": [],
   "source": [
    "from http.server import HTTPServer, BaseHTTPRequestHandler \n",
    "import argparse\n",
    "import os\n",
    "import random\n",
    "import sys\n",
    "import requests\n",
    "\n",
    "hostname = '127.0.0.1:8081'\n",
    "\n",
    "def merge_two_dicts(x, y):\n",
    "    z = x.copy()   # start with x's keys and values\n",
    "    z.update(y)    # modifies z with y's keys and values & returns None\n",
    "    return z\n",
    "\n",
    "def set_header():\n",
    "    headers = {\n",
    "        'Host': hostname\n",
    "    }\n",
    "\n",
    "    return headers\n",
    "\n",
    "class ProxyHTTPRequestHandler(BaseHTTPRequestHandler):\n",
    "    protocol_version = 'HTTP/1.0'\n",
    "    def do_HEAD(self):\n",
    "        self.do_GET(body=False)\n",
    "\n",
    "    def do_GET(self, body=True):\n",
    "        sent = False\n",
    "        try:\n",
    "\n",
    "            url = 'http://{}{}'.format(hostname, self.path)\n",
    "            req_header = self.parse_headers()\n",
    "\n",
    "            print(req_header)\n",
    "            print(url)\n",
    "            resp = requests.get(url, headers=merge_two_dicts(req_header, set_header()), verify=False)\n",
    "            sent = True\n",
    "\n",
    "            self.send_response(resp.status_code)\n",
    "            self.send_resp_headers(resp)\n",
    "            if body:\n",
    "                self.wfile.write(resp.content)\n",
    "            return\n",
    "        finally:\n",
    "            self.finish()\n",
    "            if not sent:\n",
    "                self.send_error(404, 'error trying to proxy')\n",
    "\n",
    "    def do_POST(self, body=True):\n",
    "        sent = False\n",
    "        try:\n",
    "            url = 'http://{}{}'.format(hostname, self.path)\n",
    "            content_len = int(self.headers.getheader('content-length', 0))\n",
    "            post_body = self.rfile.read(content_len)\n",
    "            req_header = self.parse_headers()\n",
    "\n",
    "            resp = requests.post(url, data=post_body, headers=merge_two_dicts(req_header, set_header()), verify=False)\n",
    "            sent = True\n",
    "\n",
    "            self.send_response(resp.status_code)\n",
    "            self.send_resp_headers(resp)\n",
    "            if body:\n",
    "                self.wfile.write(resp.content)\n",
    "            return\n",
    "        finally:\n",
    "            self.finish()\n",
    "            if not sent:\n",
    "                self.send_error(404, 'error trying to proxy')\n",
    "\n",
    "    def parse_headers(self):\n",
    "        req_header = {}\n",
    "        for line in self.headers.headers:\n",
    "            line_parts = [o.strip() for o in line.split(':', 1)]\n",
    "            if len(line_parts) == 2:\n",
    "                req_header[line_parts[0]] = line_parts[1]\n",
    "        return req_header\n",
    "\n",
    "    def send_resp_headers(self, resp):\n",
    "        respheaders = resp.headers\n",
    "        print ('Response Header')\n",
    "        for key in respheaders:\n",
    "            if key not in ['Content-Encoding', 'Transfer-Encoding', 'content-encoding', 'transfer-encoding', 'content-length', 'Content-Length']:\n",
    "                print (key, respheaders[key])\n",
    "                self.send_header(key, respheaders[key])\n",
    "        self.send_header('Content-Length', len(resp.content))\n",
    "        self.end_headers()"
   ]
  },
  {
   "cell_type": "code",
   "execution_count": null,
   "id": "ad130df4-976d-4285-8b01-e7cfdbdf6e6e",
   "metadata": {},
   "outputs": [
    {
     "name": "stdout",
     "output_type": "stream",
     "text": [
      "http server is running as reverse proxy\n"
     ]
    }
   ],
   "source": [
    "server_address = ('127.0.0.1', 8080)\n",
    "httpd = HTTPServer(server_address, ProxyHTTPRequestHandler)\n",
    "print('http server is running as reverse proxy')\n",
    "httpd.serve_forever()"
   ]
  },
  {
   "cell_type": "code",
   "execution_count": null,
   "id": "a0803b81-7b7d-4427-8dfd-5819d75c235d",
   "metadata": {},
   "outputs": [],
   "source": []
  }
 ],
 "metadata": {
  "kernelspec": {
   "display_name": "Python 3 (ipykernel)",
   "language": "python",
   "name": "python3"
  },
  "language_info": {
   "codemirror_mode": {
    "name": "ipython",
    "version": 3
   },
   "file_extension": ".py",
   "mimetype": "text/x-python",
   "name": "python",
   "nbconvert_exporter": "python",
   "pygments_lexer": "ipython3",
   "version": "3.9.6"
  }
 },
 "nbformat": 4,
 "nbformat_minor": 5
}
