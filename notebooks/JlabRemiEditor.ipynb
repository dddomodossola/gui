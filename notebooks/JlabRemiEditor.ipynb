{
 "cells": [
  {
   "cell_type": "markdown",
   "id": "d6190bb3-da16-4cc8-b4ab-50ef32de2b96",
   "metadata": {},
   "source": [
    "# Editor"
   ]
  },
  {
   "cell_type": "code",
   "execution_count": 1,
   "id": "cd99ec06-e44c-4dc7-a0a0-f34caf7f2366",
   "metadata": {},
   "outputs": [],
   "source": [
    "import editor.prototypes\n",
    "import editor.editor_widgets\n",
    "from editor.editor import Editor\n",
    "from remi import start"
   ]
  },
  {
   "cell_type": "code",
   "execution_count": 2,
   "id": "f3928282-2156-4b4a-ba0b-76b72493f85a",
   "metadata": {},
   "outputs": [],
   "source": [
    "from threading import Timer, Thread"
   ]
  },
  {
   "cell_type": "code",
   "execution_count": 3,
   "id": "51f06f80-7d2a-478c-bb64-7acda261cb85",
   "metadata": {},
   "outputs": [],
   "source": [
    "class Proxy():\n",
    "    value = True\n",
    "    @staticmethod\n",
    "    def set_url(url):\n",
    "        if url.startswith(\"data:\"):\n",
    "            return url\n",
    "        else:\n",
    "            return \"/proxy/8085\"+url\n",
    "    @staticmethod\n",
    "    def get_url():\n",
    "        return \"/proxy/8085\"  "
   ]
  },
  {
   "cell_type": "code",
   "execution_count": 4,
   "id": "a9a7d0f5-d32f-4555-9be0-f7077d446bc7",
   "metadata": {},
   "outputs": [],
   "source": [
    "class MyApp(Editor):\n",
    "    def __init__(self, *args):\n",
    "        super(MyApp, self).__init__(*args,)"
   ]
  },
  {
   "cell_type": "code",
   "execution_count": 5,
   "id": "71c3725e-9235-4682-b304-a0e580ccc8df",
   "metadata": {},
   "outputs": [
    {
     "name": "stderr",
     "output_type": "stream",
     "text": [
      "remi.server      INFO     Started httpserver http://127.0.0.1:8085/\n",
      "remi.request     INFO     built UI (path=/)\n"
     ]
    },
    {
     "name": "stdout",
     "output_type": "stream",
     "text": [
      "new project\n",
      ">>>>>>>>>>>>startup time: 0.31499528884887695\n"
     ]
    },
    {
     "name": "stderr",
     "output_type": "stream",
     "text": [
      "127.0.0.1 - - [22/Nov/2021 18:23:19] \"GET / HTTP/1.1\" 200 -\n",
      "remi.server.ws   INFO     connection established: ('127.0.0.1', 65472)\n",
      "remi.server.ws   INFO     handshake complete\n"
     ]
    },
    {
     "name": "stdout",
     "output_type": "stream",
     "text": [
      "loading additional widgets\n",
      "-------------used keys:[]\n",
      "EditorAttributes set widget\n",
      "selected widget: container0\n",
      "selected widget class: Container\n",
      "is widget Container: True\n",
      "0.5065946578979492\n",
      "-------------used keys:['root', '2165114065728', '2165114102736']\n"
     ]
    },
    {
     "name": "stderr",
     "output_type": "stream",
     "text": [
      "127.0.0.1 - - [22/Nov/2021 18:23:44] \"GET / HTTP/1.1\" 200 -\n"
     ]
    },
    {
     "name": "stdout",
     "output_type": "stream",
     "text": [
      "EditorAttributes set widget\n",
      "selected widget: image0\n",
      "selected widget class: Image\n",
      "is widget Container: False\n",
      "0.5820033550262451\n"
     ]
    },
    {
     "name": "stderr",
     "output_type": "stream",
     "text": [
      "127.0.0.1 - - [22/Nov/2021 18:23:47] \"GET / HTTP/1.1\" 200 -\n",
      "127.0.0.1 - - [22/Nov/2021 18:23:48] \"GET / HTTP/1.1\" 200 -\n",
      "127.0.0.1 - - [22/Nov/2021 18:23:49] \"GET / HTTP/1.1\" 200 -\n",
      "127.0.0.1 - - [22/Nov/2021 18:23:50] \"GET / HTTP/1.1\" 200 -\n",
      "127.0.0.1 - - [22/Nov/2021 18:23:51] \"GET / HTTP/1.1\" 200 -\n",
      "127.0.0.1 - - [22/Nov/2021 18:23:52] \"GET / HTTP/1.1\" 200 -\n",
      "127.0.0.1 - - [22/Nov/2021 18:23:52] \"GET / HTTP/1.1\" 200 -\n",
      "127.0.0.1 - - [22/Nov/2021 18:23:53] \"GET / HTTP/1.1\" 200 -\n",
      "127.0.0.1 - - [22/Nov/2021 18:23:54] \"GET / HTTP/1.1\" 200 -\n",
      "127.0.0.1 - - [22/Nov/2021 18:24:16] \"GET / HTTP/1.1\" 200 -\n",
      "remi.server.ws   ERROR    Error managing incoming websocket message\n",
      "Traceback (most recent call last):\n",
      "  File \"c:\\Users\\gilbe\\Documents\\GitHub\\remi\\venv\\lib\\site-packages\\remi\\server.py\", line 166, in read_next_message\n",
      "    length = self.bytetonum(length[1]) & 127\n",
      "IndexError: index out of range\n"
     ]
    }
   ],
   "source": [
    "myRemi = Thread(target=start, \n",
    "                         args=(MyApp,),\n",
    "                         kwargs={'address':'127.0.0.1', \n",
    "                                 'port':8085, \n",
    "                                 'multiple_instance':True,\n",
    "                                 'enable_file_cache':True, \n",
    "                                 'update_interval':0.5, \n",
    "                                 'start_browser':False,\n",
    "                                 'proxy':Proxy})\n",
    "myRemi.start()  "
   ]
  },
  {
   "cell_type": "markdown",
   "id": "73cd1921-a5a1-424c-aa3b-3f3f2032cd06",
   "metadata": {},
   "source": [
    "http://127.0.0.1:8888/proxy/8085"
   ]
  },
  {
   "cell_type": "code",
   "execution_count": null,
   "id": "0f87d351-bc19-4c5a-b6dd-ced963cd4efc",
   "metadata": {},
   "outputs": [],
   "source": []
  }
 ],
 "metadata": {
  "kernelspec": {
   "display_name": "Python 3 (ipykernel)",
   "language": "python",
   "name": "python3"
  },
  "language_info": {
   "codemirror_mode": {
    "name": "ipython",
    "version": 3
   },
   "file_extension": ".py",
   "mimetype": "text/x-python",
   "name": "python",
   "nbconvert_exporter": "python",
   "pygments_lexer": "ipython3",
   "version": "3.9.6"
  }
 },
 "nbformat": 4,
 "nbformat_minor": 5
}
